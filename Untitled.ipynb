{
 "cells": [
  {
   "cell_type": "code",
   "execution_count": 5,
   "metadata": {},
   "outputs": [],
   "source": [
    "aaa = \"\"\"청와대가 1일 문재인 대통령의 21대 국회 개원연설과 관련해 언급하고 나서면서 관심이 모아진다.\n",
    "\n",
    "강민석 청와대 대변인은 이날 춘추관에서 브리핑을 갖고 \"문 대통령의 개원연설이 앞으로 어떻게 되는지 질문을 많이 받는데, 분명한 답을 드리지 못해 답답한 마음\"이라고 말했다.\n",
    "\n",
    "강 대변인은 \"사실 문 대통령은 지난 6월5일 개원연설을 할 수 있을 것으로 보고, 긴 연설문을 준비해 놓은 상태였다\"면서 \"국무회의나 수보회의 메시지 분량이 아니라 30분 이상 되는 분량의 긴 연설문이었다\"고 밝혔다.\"\"\""
   ]
  },
  {
   "cell_type": "code",
   "execution_count": 4,
   "metadata": {},
   "outputs": [],
   "source": [
    "aaa =\"\"\"Obama's presidency has generally been regarded favorably, and evaluations of his presidency among historians, political scientists, and the general public place him among the upper tier of American presidents. Obama left office in January 2017 but continues to reside in Washington, D.C.[3][4]\"\"\""
   ]
  },
  {
   "cell_type": "code",
   "execution_count": 6,
   "metadata": {},
   "outputs": [
    {
     "data": {
      "text/plain": [
       "['청와대가 1일 문재인 대통령의 21대 국회 개원연설과 관련해 언급하고 나서면서 관심이 모아진다.',\n",
       " '강민석 청와대 대변인은 이날 춘추관에서 브리핑을 갖고 \"문 대통령의 개원연설이 앞으로 어떻게 되는지 질문을 많이 받는데, 분명한 답을 드리지 못해 답답한 마음\"이라고 말했다.',\n",
       " '강 대변인은 \"사실 문 대통령은 지난 6월5일 개원연설을 할 수 있을 것으로 보고, 긴 연설문을 준비해 놓은 상태였다\"면서 \"국무회의나 수보회의 메시지 분량이 아니라 30분 이상 되는 분량의 긴 연설문이었다\"고 밝혔다.']"
      ]
     },
     "execution_count": 6,
     "metadata": {},
     "output_type": "execute_result"
    }
   ],
   "source": [
    "import re\n",
    "p = re.compile('\\s+')\n",
    "p2 = re.compile('\\_')\n",
    "q = re.compile('\\:')\n",
    "q1 = re.compile('\\[[\\s\\_0-9a-z]+\\]')  #위키 등 주석 없애기\n",
    "q2 = re.compile('\\.[\\s\\_]+')\n",
    "q3 = re.compile('(?P<dotw>\\.[a-zA-Z0-9가-힣]+)\\.\\_') #0519추가\n",
    "q4 = re.compile('\\\\n')\n",
    "q5 = re.compile('\\.\\.')\n",
    "q6 = re.compile('\\\"\\s*(?P<enC>[A-Z][a-z]+)')\n",
    "X = p.sub(' ',q5.sub('.',q6.sub('\"_\\g<enC>',q2.sub('._',q4.sub('_',q1.sub(' ',aaa)))))).split('_')\n",
    "X"
   ]
  },
  {
   "cell_type": "code",
   "execution_count": 1,
   "metadata": {},
   "outputs": [],
   "source": [
    "from app_utils import to_start, rid_blank, preproc_num, to_normal\n",
    "from trns.get_model import trns_model\n",
    "\n",
    "pre_en, pre_ko, trns = trns_model()\n",
    "\n"
   ]
  },
  {
   "cell_type": "code",
   "execution_count": 2,
   "metadata": {},
   "outputs": [],
   "source": [
    "def nmt(X, to_start, pre_ko, pre_en, trns):\n",
    "\n",
    "    enko_count = sum([1 if ord(c) in range(65,123) else -1 for c in X])\n",
    "    X = to_start(X)\n",
    "    \n",
    "    if enko_count > 0:\n",
    "        X = pre_en(X)\n",
    "        print(X)\n",
    "        X = preproc_num(X)\n",
    "        X = [s.split(' ') for s in X if s.strip() !='\"']\n",
    "        X = trns.translate(X,'ko')\n",
    "        X = to_normal(X)\n",
    "        \n",
    "    else:\n",
    "        X = pre_ko.forward(X)\n",
    "        #print(\"start\",X)\n",
    "        X = preproc_num(X)\n",
    "        X = [s.split(' ') for s in X if s.strip() !='\"']\n",
    "        X = trns.translate(X,'en')\n",
    "        X = rid_blank(X)    \n",
    "\n",
    "    return X"
   ]
  },
  {
   "cell_type": "code",
   "execution_count": 24,
   "metadata": {},
   "outputs": [],
   "source": [
    "X = \"\"\"On a very different Fourth of July holiday, when many Americans are wrestling with the racist misdeeds of the country's heroes and confronting an unrelenting pandemic with surging cases, their commander-in-chief is attempting to drag America backward -- stirring fear of cultural change while flouting the most basic scientific evidence about disease transmission.\n",
    "\n",
    "In a jaw-dropping speech that amounted to a culture war bonfire, President Donald Trump used the backdrop of Mount Rushmore Friday night to frame protesters as a nefarious left-wing mob that intends to \"end America.\" Those opponents, he argued, are engaged in a \"merciless campaign to wipe out our history, defame our heroes, erase our values, and \n",
    "indoctrinate our children.\" \"\"\""
   ]
  },
  {
   "cell_type": "code",
   "execution_count": 25,
   "metadata": {},
   "outputs": [
    {
     "name": "stdout",
     "output_type": "stream",
     "text": [
      "[\"^ on _ a _ very _ different ^ fourth _ of ^ july _ holiday _ , _ when _ many ^ american s _ are _ wrestling _ with _ the _ racist _ misdeeds _ of _ the _ country 's _ heroes _ and _ confront ing _ an _ unrelenting _ pandemic _ with _ surg ing _ case s _ , _ their _ commander-in-chief _ is _ attempt ing _ to _ drag ^ america _ backward _ -- _ stirring _ fear _ of _ cultural _ change _ while _ flout ing _ the _ most _ basic _ scientific _ evidence _ about _ disease _ transmission _ .\", '^ in _ a _ jaw - dropping _ speech _ that _ amount ed _ to _ a _ culture _ war _ bonfire _ , ^ president ^ donald ^ trump _ used _ the _ backdrop _ of ^ mount ^ rushmore ^ friday _ night _ to _ frame _ protesters _ as _ a _ nefarious _ left-wing _ mob _ that _ intend s _ to _ \" _ end ^ america _ . _ \"', '^ those _ opponent s _ , _ he _ argu ed _ , _ are _ engag ed _ in _ a _ \" _ merciless _ campaign _ to _ wipe _ out _ our _ history _ , _ defam e _ our _ heroes _ , _ eras e _ our _ value s _ , _ and', '_ indoctrinat e _ our _ children _ . _ \"']\n"
     ]
    },
    {
     "data": {
      "text/plain": [
       "' 많은 미국인들이 국가 영웅들의 인종주의 행위와 씨름하고 있는 7월 4일 매우 다른 일을 하고 있다. 도널드 트럼프 대통령은 문화전쟁 모닥불을 맺은 턱떼발언을 통해 금요일 일몰 산을 배경으로 ‘미국을 끝’ 을 뜻하는 악한 좌파 폭도들로 시위대를 액자에 세웠다. 그는 “우리 역사를 닦기 위한 무자비한 캠페인” 을 벌이고 있다고 주장했다. 아이들을 양육하십시오.'"
      ]
     },
     "execution_count": 25,
     "metadata": {},
     "output_type": "execute_result"
    }
   ],
   "source": [
    "\n",
    "nmt(X, to_start, pre_ko, pre_en, trns)\n"
   ]
  },
  {
   "cell_type": "code",
   "execution_count": 11,
   "metadata": {},
   "outputs": [
    {
     "name": "stdout",
     "output_type": "stream",
     "text": [
      "8221 [(8215, '‗'), (8216, '‘'), (8217, '’'), (8218, '‚'), (8219, '‛'), (8220, '“'), (8221, '”'), (8222, '„'), (8223, '‟')]\n"
     ]
    }
   ],
   "source": [
    "print(ord('”'),[(i,chr(i)) for i in range(8215,8224)])"
   ]
  },
  {
   "cell_type": "code",
   "execution_count": 11,
   "metadata": {},
   "outputs": [
    {
     "data": {
      "text/plain": [
       "\"president's\""
      ]
     },
     "execution_count": 11,
     "metadata": {},
     "output_type": "execute_result"
    }
   ],
   "source": [
    "import re\n",
    "z3 = re.compile(\"\\s*\\\\\\*\\'s\\s*\")\n",
    "aaa = \"president \\'s\"\n",
    "z3.sub(\"'s\",aaa)"
   ]
  },
  {
   "cell_type": "code",
   "execution_count": 3,
   "metadata": {},
   "outputs": [],
   "source": [
    "import json\n",
    "with open('loanWords.json','r') as f:\n",
    "    loanX = json.load(f)"
   ]
  },
  {
   "cell_type": "code",
   "execution_count": 11,
   "metadata": {},
   "outputs": [
    {
     "data": {
      "application/vnd.jupyter.widget-view+json": {
       "model_id": "a26fb08d499f4aec82d45aba71f40072",
       "version_major": 2,
       "version_minor": 0
      },
      "text/plain": [
       "HBox(children=(FloatProgress(value=0.0, max=2848.0), HTML(value='')))"
      ]
     },
     "metadata": {},
     "output_type": "display_data"
    },
    {
     "name": "stdout",
     "output_type": "stream",
     "text": [
      "\n"
     ]
    },
    {
     "data": {
      "application/vnd.jupyter.widget-view+json": {
       "model_id": "381e1fe9ec9c47c58e3a076fc1670a39",
       "version_major": 2,
       "version_minor": 0
      },
      "text/plain": [
       "HBox(children=(FloatProgress(value=0.0, max=5778.0), HTML(value='')))"
      ]
     },
     "metadata": {},
     "output_type": "display_data"
    },
    {
     "name": "stderr",
     "output_type": "stream",
     "text": [
      "/home/john/App_root/toNMT/trns/NMT/xutils_for_sents_v2.py:246: RuntimeWarning: divide by zero encountered in log\n",
      "  pre_sub_sum = sub_sum = [np.log(vocabs[vocs_dict[1][zsub]])-logprob[len(zsub)]+magic4(zsub,z,k_args)]\n",
      "/home/john/App_root/toNMT/trns/NMT/xutils_for_sents_v2.py:483: RuntimeWarning: divide by zero encountered in log\n",
      "  if sum(temp_sum)/len(temp_sum) < np.log(vocabs[to_ch])*nx-logprob[len(to_ch)] + magic4(to_ch,z,k_args):\n"
     ]
    },
    {
     "name": "stdout",
     "output_type": "stream",
     "text": [
      "\n"
     ]
    },
    {
     "data": {
      "application/vnd.jupyter.widget-view+json": {
       "model_id": "6260764010af4889b8bd156a4ede73c4",
       "version_major": 2,
       "version_minor": 0
      },
      "text/plain": [
       "HBox(children=(FloatProgress(value=0.0, max=485.0), HTML(value='')))"
      ]
     },
     "metadata": {},
     "output_type": "display_data"
    },
    {
     "name": "stdout",
     "output_type": "stream",
     "text": [
      "\n"
     ]
    },
    {
     "data": {
      "application/vnd.jupyter.widget-view+json": {
       "model_id": "6cf86db73b024ee49485631cc8f272c3",
       "version_major": 2,
       "version_minor": 0
      },
      "text/plain": [
       "HBox(children=(FloatProgress(value=0.0, max=715.0), HTML(value='')))"
      ]
     },
     "metadata": {},
     "output_type": "display_data"
    },
    {
     "name": "stdout",
     "output_type": "stream",
     "text": [
      "\n"
     ]
    },
    {
     "data": {
      "text/plain": [
       "dict_keys(['ePN', 'eRN', 'xPN', 'xRN'])"
      ]
     },
     "execution_count": 11,
     "metadata": {},
     "output_type": "execute_result"
    }
   ],
   "source": [
    "from tqdm.notebook import tqdm\n",
    "dset = \"ePN eRN xPN xRN\".split(' ')\n",
    "loanW = {}\n",
    "for ds in dset:\n",
    "    mD = []\n",
    "    for w in tqdm(loanX[ds]):\n",
    "        mD.append(pre_en(to_start(w[0]))+pre_ko.forward(to_start(w[1])))\n",
    "    loanW[ds] = mD\n",
    "loanW.keys()"
   ]
  },
  {
   "cell_type": "code",
   "execution_count": 12,
   "metadata": {},
   "outputs": [],
   "source": [
    "with open('loanW_modi.json','w') as f:\n",
    "    json.dump(loanW,f)"
   ]
  },
  {
   "cell_type": "code",
   "execution_count": 15,
   "metadata": {},
   "outputs": [
    {
     "data": {
      "text/plain": [
       "[['^ zeigler', '_ 자 이글 러'],\n",
       " ['^ clarendon', '_ 클 래 런던'],\n",
       " ['^ sevier ville', '_ 서 비 어 빌'],\n",
       " ['^ emory', '_ 에 머리'],\n",
       " ['^ little ^ cayman', '_ 리 틀 케이 맨'],\n",
       " ['^ custer ^ terrace', '_ 커스터 테라스'],\n",
       " ['^ mega r gel', '_ 메 가 글'],\n",
       " ['^ morgantown', '_ 모건 타운'],\n",
       " ['^ paho kee', '_ 퍼 호 키'],\n",
       " ['^ campbell ton', '_ 캠벨 턴']]"
      ]
     },
     "execution_count": 15,
     "metadata": {},
     "output_type": "execute_result"
    }
   ],
   "source": [
    "loanW['eRN'][-10:]"
   ]
  },
  {
   "cell_type": "code",
   "execution_count": null,
   "metadata": {},
   "outputs": [],
   "source": [
    "def nmt(X, to_start, pre_ko, pre_en, trns):\n",
    "\n",
    "    enko_count = sum([1 if ord(c) in range(65,123) else -1 for c in X])\n",
    "    X = to_start(X)\n",
    "    \n",
    "    if enko_count > 0:\n",
    "        X = pre_en(X)\n",
    "        print(X)\n",
    "        X = preproc_num(X)\n",
    "        X = [s.split(' ') for s in X if s.strip() !='\"']\n",
    "        X = trns.translate(X,'ko')\n",
    "        X = to_normal(X)\n",
    "        \n",
    "    else:\n",
    "        X = pre_ko.forward(X)\n",
    "        #print(\"start\",X)\n",
    "        X = preproc_num(X)\n",
    "        X = [s.split(' ') for s in X if s.strip() !='\"']\n",
    "        X = trns.translate(X,'en')\n",
    "        X = rid_blank(X)    \n",
    "\n",
    "    return X"
   ]
  },
  {
   "cell_type": "code",
   "execution_count": 2,
   "metadata": {},
   "outputs": [
    {
     "data": {
      "text/plain": [
       "[1, 2, 1, 2, 1, 2, 1, 2, 1, 2]"
      ]
     },
     "execution_count": 2,
     "metadata": {},
     "output_type": "execute_result"
    }
   ],
   "source": [
    "aa = [1,2]\n",
    "aa * 5"
   ]
  },
  {
   "cell_type": "code",
   "execution_count": 6,
   "metadata": {},
   "outputs": [],
   "source": [
    "import re\n",
    "def to_start(X):\n",
    "    p = re.compile('\\s+')\n",
    "    p2 = re.compile('\\_')\n",
    "    q = re.compile('\\:')\n",
    "    q1 = re.compile('\\[[\\s\\_0-9a-z]+\\]')  #위키 등 주석 없애기\n",
    "    q2 = re.compile('(?P<xCap>[^A-Z])(?P<xdot>[\\.\\?\\!])[\\s\\_]+')  # 앞에 대문자 오는 경우  J. F. Kennedy 같은 경우 제외\n",
    "    q3 = re.compile('(?P<dotw>\\.[a-zA-Z0-9가-힣]+)\\.\\_') #0519추가  ???\n",
    "    q4 = re.compile(r'\\\\n')\n",
    "    q5 = re.compile('\\.\\.') \n",
    "    q6 = re.compile('\\.(?P<qmark>[\\\"\\'\\’\\”])\\s*(?P<enC>[A-Z][a-z]+)') ## 고민해야 할 부분\n",
    "    X = p.sub(' ',q5.sub('.',q6.sub('.\\g<qmark>_\\g<enC>',q2.sub('\\g<xCap>\\g<xdot>_',q4.sub('_',q1.sub(' ',p.sub(' ',X))))))).split('_')\n",
    "    return X\n"
   ]
  },
  {
   "cell_type": "code",
   "execution_count": 2,
   "metadata": {},
   "outputs": [],
   "source": [
    "aaa = \"\"\"What, then, shall we say in response to these things? If God is for us, who can be against us? He who did not spare his own Son, but gave him up for us all—how will he not also, along with him, graciously give us all things? Who will bring any charge against those whom God has chosen? It is God who justifies. Who then is the one who condemns? No one. Christ Jesus who died—more than that, who was raised to life—is at the right hand of God and is also interceding for us. Who shall separate us from the love of Christ? Shall trouble or hardship or persecution or famine or nakedness or danger or sword? As it is written:\"\"\""
   ]
  },
  {
   "cell_type": "code",
   "execution_count": 7,
   "metadata": {},
   "outputs": [
    {
     "data": {
      "text/plain": [
       "['What, then, shall we say in response to these things?',\n",
       " 'If God is for us, who can be against us?',\n",
       " 'He who did not spare his own Son, but gave him up for us all—how will he not also, along with him, graciously give us all things?',\n",
       " 'Who will bring any charge against those whom God has chosen?',\n",
       " 'It is God who justifies.',\n",
       " 'Who then is the one who condemns?',\n",
       " 'No one.',\n",
       " 'Christ Jesus who died—more than that, who was raised to life—is at the right hand of God and is also interceding for us.',\n",
       " 'Who shall separate us from the love of Christ?',\n",
       " 'Shall trouble or hardship or persecution or famine or nakedness or danger or sword?',\n",
       " 'As it is written:']"
      ]
     },
     "execution_count": 7,
     "metadata": {},
     "output_type": "execute_result"
    }
   ],
   "source": [
    "to_start(aaa)"
   ]
  },
  {
   "cell_type": "code",
   "execution_count": 5,
   "metadata": {},
   "outputs": [
    {
     "name": "stdout",
     "output_type": "stream",
     "text": [
      "['\\x00', '\\x01', '\\x02', '\\x03', '\\x04', '\\x05', '\\x06', '\\x07', '\\x08', '\\t', '\\n', '\\x0b', '\\x0c', '\\r', '\\x0e', '\\x0f', '\\x10', '\\x11', '\\x12', '\\x13', '\\x14', '\\x15', '\\x16', '\\x17', '\\x18', '\\x19', '\\x1a', '\\x1b', '\\x1c', '\\x1d', '\\x1e', '\\x1f', ' ', '!', '\"', '#', '$', '%', '&', \"'\", '(', ')', '*', '+', ',', '-', '.', '/', '0', '1', '2', '3', '4', '5', '6', '7', '8', '9', ':', ';', '<', '=', '>', '?', '@', 'A', 'B', 'C', 'D', 'E', 'F', 'G', 'H', 'I', 'J', 'K', 'L', 'M', 'N', 'O', 'P', 'Q', 'R', 'S', 'T', 'U', 'V', 'W', 'X', 'Y', 'Z', '[', '\\\\', ']', '^', '_', '`', 'a', 'b', 'c', 'd', 'e', 'f', 'g', 'h', 'i', 'j', 'k', 'l', 'm', 'n', 'o', 'p', 'q', 'r', 's', 't', 'u', 'v', 'w', 'x', 'y', 'z', '{', '|', '}', '~', '\\x7f', '\\x80', '\\x81', '\\x82', '\\x83', '\\x84', '\\x85', '\\x86', '\\x87', '\\x88', '\\x89', '\\x8a', '\\x8b', '\\x8c', '\\x8d', '\\x8e', '\\x8f', '\\x90', '\\x91', '\\x92', '\\x93', '\\x94', '\\x95', '\\x96', '\\x97', '\\x98', '\\x99', '\\x9a', '\\x9b', '\\x9c', '\\x9d', '\\x9e', '\\x9f', '\\xa0', '¡', '¢', '£', '¤', '¥', '¦', '§', '¨', '©', 'ª', '«', '¬', '\\xad', '®', '¯', '°', '±', '²', '³', '´', 'µ', '¶', '·', '¸', '¹', 'º', '»', '¼', '½', '¾', '¿', 'À', 'Á', 'Â', 'Ã', 'Ä', 'Å', 'Æ', 'Ç', 'È', 'É', 'Ê', 'Ë', 'Ì', 'Í', 'Î', 'Ï', 'Ð', 'Ñ', 'Ò', 'Ó', 'Ô', 'Õ', 'Ö', '×', 'Ø', 'Ù', 'Ú', 'Û', 'Ü', 'Ý', 'Þ', 'ß', 'à', 'á', 'â', 'ã', 'ä', 'å', 'æ', 'ç', 'è', 'é', 'ê', 'ë', 'ì', 'í', 'î', 'ï', 'ð', 'ñ', 'ò', 'ó', 'ô', 'õ', 'ö', '÷', 'ø', 'ù', 'ú', 'û', 'ü', 'ý', 'þ', 'ÿ', 'Ā', 'ā', 'Ă', 'ă', 'Ą', 'ą', 'Ć', 'ć', 'Ĉ', 'ĉ', 'Ċ', 'ċ', 'Č', 'č', 'Ď', 'ď', 'Đ', 'đ', 'Ē', 'ē', 'Ĕ', 'ĕ', 'Ė', 'ė', 'Ę', 'ę', 'Ě', 'ě', 'Ĝ', 'ĝ', 'Ğ', 'ğ', 'Ġ', 'ġ', 'Ģ', 'ģ', 'Ĥ', 'ĥ', 'Ħ', 'ħ', 'Ĩ', 'ĩ', 'Ī', 'ī', 'Ĭ', 'ĭ', 'Į', 'į', 'İ', 'ı', 'Ĳ', 'ĳ', 'Ĵ', 'ĵ', 'Ķ', 'ķ', 'ĸ', 'Ĺ', 'ĺ', 'Ļ', 'ļ', 'Ľ', 'ľ', 'Ŀ', 'ŀ', 'Ł', 'ł', 'Ń', 'ń', 'Ņ', 'ņ', 'Ň', 'ň', 'ŉ', 'Ŋ', 'ŋ', 'Ō', 'ō', 'Ŏ', 'ŏ', 'Ő', 'ő', 'Œ', 'œ', 'Ŕ', 'ŕ', 'Ŗ', 'ŗ', 'Ř', 'ř', 'Ś', 'ś', 'Ŝ', 'ŝ', 'Ş', 'ş', 'Š', 'š', 'Ţ', 'ţ', 'Ť', 'ť', 'Ŧ', 'ŧ', 'Ũ', 'ũ', 'Ū', 'ū', 'Ŭ', 'ŭ', 'Ů', 'ů', 'Ű', 'ű', 'Ų', 'ų', 'Ŵ', 'ŵ', 'Ŷ', 'ŷ', 'Ÿ', 'Ź', 'ź', 'Ż', 'ż', 'Ž', 'ž', 'ſ', 'ƀ', 'Ɓ', 'Ƃ', 'ƃ', 'Ƅ', 'ƅ', 'Ɔ', 'Ƈ', 'ƈ', 'Ɖ', 'Ɗ', 'Ƌ', 'ƌ', 'ƍ', 'Ǝ', 'Ə']\n"
     ]
    }
   ],
   "source": [
    "print([chr(i) for i in range(400)])"
   ]
  },
  {
   "cell_type": "code",
   "execution_count": 7,
   "metadata": {},
   "outputs": [
    {
     "data": {
      "text/plain": [
       "203"
      ]
     },
     "execution_count": 7,
     "metadata": {},
     "output_type": "execute_result"
    }
   ],
   "source": [
    "ord('Ë')"
   ]
  },
  {
   "cell_type": "code",
   "execution_count": 9,
   "metadata": {},
   "outputs": [
    {
     "data": {
      "text/plain": [
       "'Dongsuk, Juyoung, Dongjae and Cecilia !!aaaaaaTry to translate whatever you want to.aaaaaaJust copy and paste.aaaAnd check whether it is acceptable or not.aaaaaaaaaaaaPush Translate Button !!!'"
      ]
     },
     "execution_count": 9,
     "metadata": {},
     "output_type": "execute_result"
    }
   ],
   "source": [
    "import re \n",
    "p = re.compile(r'\\n')\n",
    "X = [\"Dongsuk, Juyoung, Dongjae and Cecilia !!\\n\\nTry to translate whatever you want to.\\n\\nJust copy and paste.\\nAnd check whether it is acceptable or not.\\n\\n\\n\\nPush Translate Button !!!\",\"네이버 뉴스, 위키피디아 등 복사해서 여기에 붙이고 아래 translate 버튼 누르면 됩니다.\\n물론 문장을 직접 타이프해도 됩니다.\\n\\n한국 뉴스와 위키피디아 문장으로 주로 학습을 했기 때문에 의문문과 명령문 번역이 약합니다.\\n\\n가끔 어색한 번역들도 나올 수 있습니다.\"]\n",
    "p.sub('aaa', X[0])"
   ]
  },
  {
   "cell_type": "code",
   "execution_count": null,
   "metadata": {},
   "outputs": [],
   "source": []
  }
 ],
 "metadata": {
  "kernelspec": {
   "display_name": "Python 3",
   "language": "python",
   "name": "python3"
  },
  "language_info": {
   "codemirror_mode": {
    "name": "ipython",
    "version": 3
   },
   "file_extension": ".py",
   "mimetype": "text/x-python",
   "name": "python",
   "nbconvert_exporter": "python",
   "pygments_lexer": "ipython3",
   "version": "3.7.4"
  }
 },
 "nbformat": 4,
 "nbformat_minor": 2
}
